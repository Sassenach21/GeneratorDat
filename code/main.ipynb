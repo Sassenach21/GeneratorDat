{
 "cells": [
  {
   "cell_type": "code",
   "execution_count": 38,
   "metadata": {
    "collapsed": true,
    "pycharm": {
     "name": "#%%\n"
    }
   },
   "outputs": [],
   "source": [
    "import pandas as pd\n",
    "import numpy as np\n",
    "from faker import Faker"
   ]
  },
  {
   "cell_type": "code",
   "execution_count": 41,
   "outputs": [
    {
     "data": {
      "text/plain": "    ID Transit       Datum Měna                Region Poskytovatel dopravy  \\\n0         1000  2022-11-12  EUR        Liberecký kraj             Toptrans   \n1         1001  2022-06-13  CZK     Jihomoravský kraj     Spedquick Třebíč   \n2         1002  2022-01-29  EUR     Jihomoravský kraj          Pap Trutnov   \n3         1003  2022-11-26  CZK    Hlavní město Praha             Toptrans   \n4         1004  2022-09-10  CZK         Plzeňský kraj     Spedquick Třebíč   \n5         1005  2022-11-23  CZK  Moravskoslezský kraj                  GLS   \n6         1006  2022-10-15  CZK  Ústecký krajVysočina          Pap Trutnov   \n7         1007  2022-11-17  CZK  Moravskoslezský kraj             Toptrans   \n8         1008  2022-06-05  EUR  Moravskoslezský kraj     Spedquick Třebíč   \n9         1009  2022-06-03  CZK          Zlínský kraj                 Geis   \n10        1010  2022-06-01  CZK      Karlovarský kraj                 Geis   \n11        1011  2021-12-23  CZK        Olomoucký kraj                 Geis   \n12        1012  2022-06-08  CZK      Karlovarský kraj             Toptrans   \n13        1013  2022-10-16  EUR     Jihomoravský kraj     Spedquick Třebíč   \n14        1014  2022-11-01  EUR  Královehradecký kraj                  GLS   \n15        1015  2022-01-03  CZK        Olomoucký kraj                 Geis   \n16        1016  2022-04-17  CZK  Královehradecký kraj          Pap Trutnov   \n17        1017  2022-01-07  CZK  Moravskoslezský kraj                  GLS   \n18        1018  2022-08-14  EUR        Jihočeský kraj                 Geis   \n19        1019  2022-08-20  EUR        Jihočeský kraj     Spedquick Třebíč   \n\n             Doprava Pohonné hmoty  Typ skladu  \\\n0   nákladní vozidlo        diesel   tranzitní   \n1             kamion        diesel   tranzitní   \n2             kamion        diesel  regionální   \n3               vlak        diesel   tranzitní   \n4             kamion        diesel   centrální   \n5   nákladní vozidlo     natural95   tranzitní   \n6               vlak        diesel   tranzitní   \n7             kamion        diesel   tranzitní   \n8             kamion        diesel  regionální   \n9               vlak     natural95  regionální   \n10            kamion     natural95   tranzitní   \n11  nákladní vozidlo        diesel   centrální   \n12            kamion        diesel  regionální   \n13            kamion     natural95  regionální   \n14              vlak        diesel   centrální   \n15  nákladní vozidlo        diesel   centrální   \n16  nákladní vozidlo        diesel   tranzitní   \n17            kamion     natural95   tranzitní   \n18            kamion        diesel   centrální   \n19            kamion        diesel  regionální   \n\n                                      Nákladové druhy    Zaměstnanec Měna ID  \\\n0                                    Finanční náklady  Josef Vošouch    IDM2   \n1      Spotřeba materiálu, energie a externích služeb    Karel Barel    IDM1   \n2                     Mzdové a ostatní osobní náklady      Jan Novák    IDM2   \n3                     Mzdové a ostatní osobní náklady    Karel Barel    IDM1   \n4   Odpisy hmotného i nehmotného dlouhodobého majetku    Karel Barel    IDM1   \n5   Odpisy hmotného i nehmotného dlouhodobého majetku  Josef Vošouch    IDM1   \n6   Odpisy hmotného i nehmotného dlouhodobého majetku  Josef Vošouch    IDM1   \n7      Spotřeba materiálu, energie a externích služeb     Jiří Zeman    IDM1   \n8      Spotřeba materiálu, energie a externích služeb  Josef Vošouch    IDM2   \n9   Odpisy hmotného i nehmotného dlouhodobého majetku      Jan Novák    IDM1   \n10                                   Finanční náklady      Jan Novák    IDM1   \n11                                   Finanční náklady      Jan Novák    IDM1   \n12     Spotřeba materiálu, energie a externích služeb  Daniel Podach    IDM1   \n13     Spotřeba materiálu, energie a externích služeb    Karel Barel    IDM2   \n14     Spotřeba materiálu, energie a externích služeb  Josef Vošouch    IDM2   \n15     Spotřeba materiálu, energie a externích služeb     Jiří Zeman    IDM1   \n16  Odpisy hmotného i nehmotného dlouhodobého majetku  Josef Vošouch    IDM1   \n17  Odpisy hmotného i nehmotného dlouhodobého majetku      Jan Novák    IDM1   \n18                    Mzdové a ostatní osobní náklady    Karel Barel    IDM2   \n19  Odpisy hmotného i nehmotného dlouhodobého majetku    Karel Barel    IDM2   \n\n   ID Region ID PD ID Doprava ID PHM ID Sklad ID ND ID Zam  \n0        R06  PD01        D03    H02      S01  ND04  Z0004  \n1        R03  PD03        D02    H02      S01  ND01  Z0005  \n2        R03  PD05        D02    H02      S02  ND02  Z0001  \n3        R01  PD01        D01    H02      S01  ND02  Z0005  \n4        R10  PD03        D02    H02      S03  ND03  Z0005  \n5        R07  PD02        D03    H01      S01  ND03  Z0004  \n6        R13  PD05        D01    H02      S01  ND03  Z0004  \n7        R07  PD01        D02    H02      S01  ND01  Z0003  \n8        R07  PD03        D02    H02      S02  ND01  Z0004  \n9        R14  PD04        D01    H01      S02  ND03  Z0001  \n10       R04  PD04        D02    H01      S01  ND04  Z0001  \n11       R08  PD04        D03    H02      S03  ND04  Z0001  \n12       R04  PD01        D02    H02      S02  ND01  Z0002  \n13       R03  PD03        D02    H01      S02  ND01  Z0005  \n14       R05  PD02        D01    H02      S03  ND01  Z0004  \n15       R08  PD04        D03    H02      S03  ND01  Z0003  \n16       R05  PD05        D03    H02      S01  ND03  Z0004  \n17       R07  PD02        D02    H01      S01  ND03  Z0001  \n18       R02  PD04        D02    H02      S03  ND02  Z0005  \n19       R02  PD03        D02    H02      S02  ND03  Z0005  ",
      "text/html": "<div>\n<style scoped>\n    .dataframe tbody tr th:only-of-type {\n        vertical-align: middle;\n    }\n\n    .dataframe tbody tr th {\n        vertical-align: top;\n    }\n\n    .dataframe thead th {\n        text-align: right;\n    }\n</style>\n<table border=\"1\" class=\"dataframe\">\n  <thead>\n    <tr style=\"text-align: right;\">\n      <th></th>\n      <th>ID Transit</th>\n      <th>Datum</th>\n      <th>Měna</th>\n      <th>Region</th>\n      <th>Poskytovatel dopravy</th>\n      <th>Doprava</th>\n      <th>Pohonné hmoty</th>\n      <th>Typ skladu</th>\n      <th>Nákladové druhy</th>\n      <th>Zaměstnanec</th>\n      <th>Měna ID</th>\n      <th>ID Region</th>\n      <th>ID PD</th>\n      <th>ID Doprava</th>\n      <th>ID PHM</th>\n      <th>ID Sklad</th>\n      <th>ID ND</th>\n      <th>ID Zam</th>\n    </tr>\n  </thead>\n  <tbody>\n    <tr>\n      <th>0</th>\n      <td>1000</td>\n      <td>2022-11-12</td>\n      <td>EUR</td>\n      <td>Liberecký kraj</td>\n      <td>Toptrans</td>\n      <td>nákladní vozidlo</td>\n      <td>diesel</td>\n      <td>tranzitní</td>\n      <td>Finanční náklady</td>\n      <td>Josef Vošouch</td>\n      <td>IDM2</td>\n      <td>R06</td>\n      <td>PD01</td>\n      <td>D03</td>\n      <td>H02</td>\n      <td>S01</td>\n      <td>ND04</td>\n      <td>Z0004</td>\n    </tr>\n    <tr>\n      <th>1</th>\n      <td>1001</td>\n      <td>2022-06-13</td>\n      <td>CZK</td>\n      <td>Jihomoravský kraj</td>\n      <td>Spedquick Třebíč</td>\n      <td>kamion</td>\n      <td>diesel</td>\n      <td>tranzitní</td>\n      <td>Spotřeba materiálu, energie a externích služeb</td>\n      <td>Karel Barel</td>\n      <td>IDM1</td>\n      <td>R03</td>\n      <td>PD03</td>\n      <td>D02</td>\n      <td>H02</td>\n      <td>S01</td>\n      <td>ND01</td>\n      <td>Z0005</td>\n    </tr>\n    <tr>\n      <th>2</th>\n      <td>1002</td>\n      <td>2022-01-29</td>\n      <td>EUR</td>\n      <td>Jihomoravský kraj</td>\n      <td>Pap Trutnov</td>\n      <td>kamion</td>\n      <td>diesel</td>\n      <td>regionální</td>\n      <td>Mzdové a ostatní osobní náklady</td>\n      <td>Jan Novák</td>\n      <td>IDM2</td>\n      <td>R03</td>\n      <td>PD05</td>\n      <td>D02</td>\n      <td>H02</td>\n      <td>S02</td>\n      <td>ND02</td>\n      <td>Z0001</td>\n    </tr>\n    <tr>\n      <th>3</th>\n      <td>1003</td>\n      <td>2022-11-26</td>\n      <td>CZK</td>\n      <td>Hlavní město Praha</td>\n      <td>Toptrans</td>\n      <td>vlak</td>\n      <td>diesel</td>\n      <td>tranzitní</td>\n      <td>Mzdové a ostatní osobní náklady</td>\n      <td>Karel Barel</td>\n      <td>IDM1</td>\n      <td>R01</td>\n      <td>PD01</td>\n      <td>D01</td>\n      <td>H02</td>\n      <td>S01</td>\n      <td>ND02</td>\n      <td>Z0005</td>\n    </tr>\n    <tr>\n      <th>4</th>\n      <td>1004</td>\n      <td>2022-09-10</td>\n      <td>CZK</td>\n      <td>Plzeňský kraj</td>\n      <td>Spedquick Třebíč</td>\n      <td>kamion</td>\n      <td>diesel</td>\n      <td>centrální</td>\n      <td>Odpisy hmotného i nehmotného dlouhodobého majetku</td>\n      <td>Karel Barel</td>\n      <td>IDM1</td>\n      <td>R10</td>\n      <td>PD03</td>\n      <td>D02</td>\n      <td>H02</td>\n      <td>S03</td>\n      <td>ND03</td>\n      <td>Z0005</td>\n    </tr>\n    <tr>\n      <th>5</th>\n      <td>1005</td>\n      <td>2022-11-23</td>\n      <td>CZK</td>\n      <td>Moravskoslezský kraj</td>\n      <td>GLS</td>\n      <td>nákladní vozidlo</td>\n      <td>natural95</td>\n      <td>tranzitní</td>\n      <td>Odpisy hmotného i nehmotného dlouhodobého majetku</td>\n      <td>Josef Vošouch</td>\n      <td>IDM1</td>\n      <td>R07</td>\n      <td>PD02</td>\n      <td>D03</td>\n      <td>H01</td>\n      <td>S01</td>\n      <td>ND03</td>\n      <td>Z0004</td>\n    </tr>\n    <tr>\n      <th>6</th>\n      <td>1006</td>\n      <td>2022-10-15</td>\n      <td>CZK</td>\n      <td>Ústecký krajVysočina</td>\n      <td>Pap Trutnov</td>\n      <td>vlak</td>\n      <td>diesel</td>\n      <td>tranzitní</td>\n      <td>Odpisy hmotného i nehmotného dlouhodobého majetku</td>\n      <td>Josef Vošouch</td>\n      <td>IDM1</td>\n      <td>R13</td>\n      <td>PD05</td>\n      <td>D01</td>\n      <td>H02</td>\n      <td>S01</td>\n      <td>ND03</td>\n      <td>Z0004</td>\n    </tr>\n    <tr>\n      <th>7</th>\n      <td>1007</td>\n      <td>2022-11-17</td>\n      <td>CZK</td>\n      <td>Moravskoslezský kraj</td>\n      <td>Toptrans</td>\n      <td>kamion</td>\n      <td>diesel</td>\n      <td>tranzitní</td>\n      <td>Spotřeba materiálu, energie a externích služeb</td>\n      <td>Jiří Zeman</td>\n      <td>IDM1</td>\n      <td>R07</td>\n      <td>PD01</td>\n      <td>D02</td>\n      <td>H02</td>\n      <td>S01</td>\n      <td>ND01</td>\n      <td>Z0003</td>\n    </tr>\n    <tr>\n      <th>8</th>\n      <td>1008</td>\n      <td>2022-06-05</td>\n      <td>EUR</td>\n      <td>Moravskoslezský kraj</td>\n      <td>Spedquick Třebíč</td>\n      <td>kamion</td>\n      <td>diesel</td>\n      <td>regionální</td>\n      <td>Spotřeba materiálu, energie a externích služeb</td>\n      <td>Josef Vošouch</td>\n      <td>IDM2</td>\n      <td>R07</td>\n      <td>PD03</td>\n      <td>D02</td>\n      <td>H02</td>\n      <td>S02</td>\n      <td>ND01</td>\n      <td>Z0004</td>\n    </tr>\n    <tr>\n      <th>9</th>\n      <td>1009</td>\n      <td>2022-06-03</td>\n      <td>CZK</td>\n      <td>Zlínský kraj</td>\n      <td>Geis</td>\n      <td>vlak</td>\n      <td>natural95</td>\n      <td>regionální</td>\n      <td>Odpisy hmotného i nehmotného dlouhodobého majetku</td>\n      <td>Jan Novák</td>\n      <td>IDM1</td>\n      <td>R14</td>\n      <td>PD04</td>\n      <td>D01</td>\n      <td>H01</td>\n      <td>S02</td>\n      <td>ND03</td>\n      <td>Z0001</td>\n    </tr>\n    <tr>\n      <th>10</th>\n      <td>1010</td>\n      <td>2022-06-01</td>\n      <td>CZK</td>\n      <td>Karlovarský kraj</td>\n      <td>Geis</td>\n      <td>kamion</td>\n      <td>natural95</td>\n      <td>tranzitní</td>\n      <td>Finanční náklady</td>\n      <td>Jan Novák</td>\n      <td>IDM1</td>\n      <td>R04</td>\n      <td>PD04</td>\n      <td>D02</td>\n      <td>H01</td>\n      <td>S01</td>\n      <td>ND04</td>\n      <td>Z0001</td>\n    </tr>\n    <tr>\n      <th>11</th>\n      <td>1011</td>\n      <td>2021-12-23</td>\n      <td>CZK</td>\n      <td>Olomoucký kraj</td>\n      <td>Geis</td>\n      <td>nákladní vozidlo</td>\n      <td>diesel</td>\n      <td>centrální</td>\n      <td>Finanční náklady</td>\n      <td>Jan Novák</td>\n      <td>IDM1</td>\n      <td>R08</td>\n      <td>PD04</td>\n      <td>D03</td>\n      <td>H02</td>\n      <td>S03</td>\n      <td>ND04</td>\n      <td>Z0001</td>\n    </tr>\n    <tr>\n      <th>12</th>\n      <td>1012</td>\n      <td>2022-06-08</td>\n      <td>CZK</td>\n      <td>Karlovarský kraj</td>\n      <td>Toptrans</td>\n      <td>kamion</td>\n      <td>diesel</td>\n      <td>regionální</td>\n      <td>Spotřeba materiálu, energie a externích služeb</td>\n      <td>Daniel Podach</td>\n      <td>IDM1</td>\n      <td>R04</td>\n      <td>PD01</td>\n      <td>D02</td>\n      <td>H02</td>\n      <td>S02</td>\n      <td>ND01</td>\n      <td>Z0002</td>\n    </tr>\n    <tr>\n      <th>13</th>\n      <td>1013</td>\n      <td>2022-10-16</td>\n      <td>EUR</td>\n      <td>Jihomoravský kraj</td>\n      <td>Spedquick Třebíč</td>\n      <td>kamion</td>\n      <td>natural95</td>\n      <td>regionální</td>\n      <td>Spotřeba materiálu, energie a externích služeb</td>\n      <td>Karel Barel</td>\n      <td>IDM2</td>\n      <td>R03</td>\n      <td>PD03</td>\n      <td>D02</td>\n      <td>H01</td>\n      <td>S02</td>\n      <td>ND01</td>\n      <td>Z0005</td>\n    </tr>\n    <tr>\n      <th>14</th>\n      <td>1014</td>\n      <td>2022-11-01</td>\n      <td>EUR</td>\n      <td>Královehradecký kraj</td>\n      <td>GLS</td>\n      <td>vlak</td>\n      <td>diesel</td>\n      <td>centrální</td>\n      <td>Spotřeba materiálu, energie a externích služeb</td>\n      <td>Josef Vošouch</td>\n      <td>IDM2</td>\n      <td>R05</td>\n      <td>PD02</td>\n      <td>D01</td>\n      <td>H02</td>\n      <td>S03</td>\n      <td>ND01</td>\n      <td>Z0004</td>\n    </tr>\n    <tr>\n      <th>15</th>\n      <td>1015</td>\n      <td>2022-01-03</td>\n      <td>CZK</td>\n      <td>Olomoucký kraj</td>\n      <td>Geis</td>\n      <td>nákladní vozidlo</td>\n      <td>diesel</td>\n      <td>centrální</td>\n      <td>Spotřeba materiálu, energie a externích služeb</td>\n      <td>Jiří Zeman</td>\n      <td>IDM1</td>\n      <td>R08</td>\n      <td>PD04</td>\n      <td>D03</td>\n      <td>H02</td>\n      <td>S03</td>\n      <td>ND01</td>\n      <td>Z0003</td>\n    </tr>\n    <tr>\n      <th>16</th>\n      <td>1016</td>\n      <td>2022-04-17</td>\n      <td>CZK</td>\n      <td>Královehradecký kraj</td>\n      <td>Pap Trutnov</td>\n      <td>nákladní vozidlo</td>\n      <td>diesel</td>\n      <td>tranzitní</td>\n      <td>Odpisy hmotného i nehmotného dlouhodobého majetku</td>\n      <td>Josef Vošouch</td>\n      <td>IDM1</td>\n      <td>R05</td>\n      <td>PD05</td>\n      <td>D03</td>\n      <td>H02</td>\n      <td>S01</td>\n      <td>ND03</td>\n      <td>Z0004</td>\n    </tr>\n    <tr>\n      <th>17</th>\n      <td>1017</td>\n      <td>2022-01-07</td>\n      <td>CZK</td>\n      <td>Moravskoslezský kraj</td>\n      <td>GLS</td>\n      <td>kamion</td>\n      <td>natural95</td>\n      <td>tranzitní</td>\n      <td>Odpisy hmotného i nehmotného dlouhodobého majetku</td>\n      <td>Jan Novák</td>\n      <td>IDM1</td>\n      <td>R07</td>\n      <td>PD02</td>\n      <td>D02</td>\n      <td>H01</td>\n      <td>S01</td>\n      <td>ND03</td>\n      <td>Z0001</td>\n    </tr>\n    <tr>\n      <th>18</th>\n      <td>1018</td>\n      <td>2022-08-14</td>\n      <td>EUR</td>\n      <td>Jihočeský kraj</td>\n      <td>Geis</td>\n      <td>kamion</td>\n      <td>diesel</td>\n      <td>centrální</td>\n      <td>Mzdové a ostatní osobní náklady</td>\n      <td>Karel Barel</td>\n      <td>IDM2</td>\n      <td>R02</td>\n      <td>PD04</td>\n      <td>D02</td>\n      <td>H02</td>\n      <td>S03</td>\n      <td>ND02</td>\n      <td>Z0005</td>\n    </tr>\n    <tr>\n      <th>19</th>\n      <td>1019</td>\n      <td>2022-08-20</td>\n      <td>EUR</td>\n      <td>Jihočeský kraj</td>\n      <td>Spedquick Třebíč</td>\n      <td>kamion</td>\n      <td>diesel</td>\n      <td>regionální</td>\n      <td>Odpisy hmotného i nehmotného dlouhodobého majetku</td>\n      <td>Karel Barel</td>\n      <td>IDM2</td>\n      <td>R02</td>\n      <td>PD03</td>\n      <td>D02</td>\n      <td>H02</td>\n      <td>S02</td>\n      <td>ND03</td>\n      <td>Z0005</td>\n    </tr>\n  </tbody>\n</table>\n</div>"
     },
     "execution_count": 41,
     "metadata": {},
     "output_type": "execute_result"
    }
   ],
   "source": [
    "# create some fake data\n",
    "fake = Faker()\n",
    "\n",
    "# function to create a dataframe with fake values for our transport business\n",
    "def make_doprava(num):\n",
    "    # lists to randomly assign to doprava\n",
    "    region_list = ['Hlavní město Praha',\n",
    "                   'Jihočeský kraj',\n",
    "                   'Jihomoravský kraj',\n",
    "                   'Karlovarský kraj',\n",
    "                   'Královehradecký kraj',\n",
    "                   'Liberecký kraj',\n",
    "                   'Moravskoslezský kraj',\n",
    "                   'Olomoucký kraj',\n",
    "                   'Pardubický kraj',\n",
    "                   'Plzeňský kraj',\n",
    "                   'Středočeský kraj',\n",
    "                   'Ústecký kraj'\n",
    "                   'Vysočina',\n",
    "                   'Zlínský kraj']\n",
    "    #regionid = pd.Series(region_list).astype('category').cat.codes.values\n",
    "    company_list = ['Toptrans',\n",
    "                    'GLS',\n",
    "                    'Spedquick Třebíč',\n",
    "                    'Geis',\n",
    "                    'Pap Trutnov']\n",
    "\n",
    "    #companyid = map(lambda x: company_keys, company_list)\n",
    "    transport_type_list = ['vlak',\n",
    "                           'kamion',\n",
    "                           'nákladní vozidlo']\n",
    "    currency_list = ['CZK',\n",
    "                     'EUR']\n",
    "    phm_list = ['natural95',\n",
    "                'diesel']\n",
    "    zam_list = ['Jan Novák',\n",
    "                'Daniel Podach',\n",
    "                'Jiří Zeman',\n",
    "                'Josef Vošouch',\n",
    "                'Karel Barel']\n",
    "    warehouse_type_list = ['tranzitní',\n",
    "                      'centrální',\n",
    "                      'regionální']\n",
    "    druhy_nakladu = ['Spotřeba materiálu, energie a externích služeb',\n",
    "                     'Mzdové a ostatní osobní náklady',\n",
    "                     'Odpisy hmotného i nehmotného dlouhodobého majetku',\n",
    "                     'Finanční náklady']\n",
    "\n",
    "    fake_doprava = [{'ID Transit':x+1000,\n",
    "                     'Datum':fake.date_between(start_date='-1y', end_date='today'),\n",
    "                     'Měna':np.random.choice(currency_list, p=[0.60, 0.40]),\n",
    "                     'Region':np.random.choice(region_list),\n",
    "                     'Poskytovatel dopravy':np.random.choice(company_list),\n",
    "                     'Doprava':np.random.choice(transport_type_list, p=[0.30, 0.40, 0.30]),\n",
    "                     'Pohonné hmoty':np.random.choice(phm_list),\n",
    "                     'Typ skladu':np.random.choice(warehouse_type_list),\n",
    "                     'Nákladové druhy':np.random.choice(druhy_nakladu),\n",
    "                     'Zaměstnanec':np.random.choice(zam_list)}\n",
    "                      for x in range(num)]\n",
    "    return fake_doprava\n",
    "df = pd.DataFrame(make_doprava(num=500))\n",
    "\n",
    "#id měny\n",
    "df.loc[df['Měna'].str.contains('CZK'), 'Měna ID'] = 'IDM1'\n",
    "df.loc[df['Měna'].str.contains('EUR'), 'Měna ID'] = 'IDM2'\n",
    "\n",
    "#id regionu\n",
    "df.loc[df['Region'].str.contains('Hlavní město Praha'), 'ID Region'] = 'R01'\n",
    "df.loc[df['Region'].str.contains('Jihočeský kraj'), 'ID Region'] = 'R02'\n",
    "df.loc[df['Region'].str.contains('Jihomoravský kraj'), 'ID Region'] = 'R03'\n",
    "df.loc[df['Region'].str.contains('Karlovarský kraj'), 'ID Region'] = 'R04'\n",
    "df.loc[df['Region'].str.contains('Královehradecký kraj'), 'ID Region'] = 'R05'\n",
    "df.loc[df['Region'].str.contains('Liberecký kraj'), 'ID Region'] = 'R06'\n",
    "df.loc[df['Region'].str.contains('Moravskoslezský kraj'), 'ID Region'] = 'R07'\n",
    "df.loc[df['Region'].str.contains('Olomoucký kraj'), 'ID Region'] = 'R08'\n",
    "df.loc[df['Region'].str.contains('Pardubický kraj'), 'ID Region'] = 'R09'\n",
    "df.loc[df['Region'].str.contains('Plzeňský kraj'), 'ID Region'] = 'R10'\n",
    "df.loc[df['Region'].str.contains('Středočeský kraj'), 'ID Region'] = 'R11'\n",
    "df.loc[df['Region'].str.contains('Ústecký kraj'), 'ID Region'] = 'R12'\n",
    "df.loc[df['Region'].str.contains('Vysočina'), 'ID Region'] = 'R13'\n",
    "df.loc[df['Region'].str.contains('Zlínský kraj'), 'ID Region'] = 'R14'\n",
    "\n",
    "#id poskytovatel dopravy\n",
    "df.loc[df['Poskytovatel dopravy'].str.contains('Toptrans'), 'ID PD'] = 'PD01'\n",
    "df.loc[df['Poskytovatel dopravy'].str.contains('GLS'), 'ID PD'] = 'PD02'\n",
    "df.loc[df['Poskytovatel dopravy'].str.contains('Spedquick'), 'ID PD'] = 'PD03'\n",
    "df.loc[df['Poskytovatel dopravy'].str.contains('Geis'), 'ID PD'] = 'PD04'\n",
    "df.loc[df['Poskytovatel dopravy'].str.contains('Pap Trutnov'), 'ID PD'] = 'PD05'\n",
    "\n",
    "#id dopravy\n",
    "df.loc[df['Doprava'].str.contains('vlak'), 'ID Doprava'] = 'D01'\n",
    "df.loc[df['Doprava'].str.contains('kamion'), 'ID Doprava'] = 'D02'\n",
    "df.loc[df['Doprava'].str.contains('nákladní vozidlo'), 'ID Doprava'] = 'D03'\n",
    "\n",
    "#id pohonné hmoty\n",
    "df.loc[df['Pohonné hmoty'].str.contains('natural95'), 'ID PHM'] = 'H01'\n",
    "df.loc[df['Pohonné hmoty'].str.contains('diesel'), 'ID PHM'] = 'H02'\n",
    "\n",
    "#id typ skladu\n",
    "df.loc[df['Typ skladu'].str.contains('tranzitní'), 'ID Sklad'] = 'S01'\n",
    "df.loc[df['Typ skladu'].str.contains('regionální'), 'ID Sklad'] = 'S02'\n",
    "df.loc[df['Typ skladu'].str.contains('centrální'), 'ID Sklad'] = 'S03'\n",
    "\n",
    "#id nákladové druhy\n",
    "df.loc[df['Nákladové druhy'].str.contains('Spotřeba materiálu, energie a externích služeb'), 'ID ND'] = 'ND01'\n",
    "df.loc[df['Nákladové druhy'].str.contains('Mzdové a ostatní osobní náklady'), 'ID ND'] = 'ND02'\n",
    "df.loc[df['Nákladové druhy'].str.contains('Odpisy hmotného i nehmotného dlouhodobého majetku'), 'ID ND'] = 'ND03'\n",
    "df.loc[df['Nákladové druhy'].str.contains('Finanční náklady'), 'ID ND'] = 'ND04'\n",
    "\n",
    "#id Zaměstnanec\n",
    "df.loc[df['Zaměstnanec'].str.contains('Jan Novák'), 'ID Zam'] = 'Z0001'\n",
    "df.loc[df['Zaměstnanec'].str.contains('Daniel Podach'), 'ID Zam'] = 'Z0002'\n",
    "df.loc[df['Zaměstnanec'].str.contains('Jiří Zeman'), 'ID Zam'] = 'Z0003'\n",
    "df.loc[df['Zaměstnanec'].str.contains('Josef Vošouch'), 'ID Zam'] = 'Z0004'\n",
    "df.loc[df['Zaměstnanec'].str.contains('Karel Barel'), 'ID Zam'] = 'Z0005'\n",
    "\n",
    "df.head(20)"
   ],
   "metadata": {
    "collapsed": false,
    "pycharm": {
     "name": "#%%\n"
    }
   }
  },
  {
   "cell_type": "code",
   "execution_count": 40,
   "outputs": [],
   "source": [
    "df.to_csv('bidata.csv')"
   ],
   "metadata": {
    "collapsed": false,
    "pycharm": {
     "name": "#%%\n"
    }
   }
  },
  {
   "cell_type": "code",
   "execution_count": null,
   "outputs": [],
   "source": [],
   "metadata": {
    "collapsed": false,
    "pycharm": {
     "name": "#%%\n"
    }
   }
  }
 ],
 "metadata": {
  "kernelspec": {
   "display_name": "Python 3",
   "language": "python",
   "name": "python3"
  },
  "language_info": {
   "codemirror_mode": {
    "name": "ipython",
    "version": 2
   },
   "file_extension": ".py",
   "mimetype": "text/x-python",
   "name": "python",
   "nbconvert_exporter": "python",
   "pygments_lexer": "ipython2",
   "version": "2.7.6"
  }
 },
 "nbformat": 4,
 "nbformat_minor": 0
}