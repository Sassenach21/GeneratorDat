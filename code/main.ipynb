{
 "cells": [
  {
   "cell_type": "code",
   "execution_count": 1,
   "metadata": {
    "collapsed": true,
    "pycharm": {
     "name": "#%%\n"
    }
   },
   "outputs": [],
   "source": [
    "import pandas as pd\n",
    "import numpy as np\n",
    "from faker import Faker"
   ]
  },
  {
   "cell_type": "code",
   "execution_count": 20,
   "outputs": [
    {
     "ename": "ValueError",
     "evalue": "a must be 1-dimensional or an integer",
     "output_type": "error",
     "traceback": [
      "\u001B[0;31m---------------------------------------------------------------------------\u001B[0m",
      "\u001B[0;31mTypeError\u001B[0m                                 Traceback (most recent call last)",
      "File \u001B[0;32mmtrand.pyx:905\u001B[0m, in \u001B[0;36mnumpy.random.mtrand.RandomState.choice\u001B[0;34m()\u001B[0m\n",
      "\u001B[0;31mTypeError\u001B[0m: 'dict' object cannot be interpreted as an integer",
      "\nDuring handling of the above exception, another exception occurred:\n",
      "\u001B[0;31mValueError\u001B[0m                                Traceback (most recent call last)",
      "Input \u001B[0;32mIn [20]\u001B[0m, in \u001B[0;36m<cell line: 64>\u001B[0;34m()\u001B[0m\n\u001B[1;32m     49\u001B[0m     fake_doprava \u001B[38;5;241m=\u001B[39m [{\u001B[38;5;124m'\u001B[39m\u001B[38;5;124mTransit ID\u001B[39m\u001B[38;5;124m'\u001B[39m:x\u001B[38;5;241m+\u001B[39m\u001B[38;5;241m1000\u001B[39m,\n\u001B[1;32m     50\u001B[0m                      \u001B[38;5;124m'\u001B[39m\u001B[38;5;124mDatum\u001B[39m\u001B[38;5;124m'\u001B[39m:fake\u001B[38;5;241m.\u001B[39mdate_between(start_date\u001B[38;5;241m=\u001B[39m\u001B[38;5;124m'\u001B[39m\u001B[38;5;124m-1y\u001B[39m\u001B[38;5;124m'\u001B[39m, end_date\u001B[38;5;241m=\u001B[39m\u001B[38;5;124m'\u001B[39m\u001B[38;5;124mtoday\u001B[39m\u001B[38;5;124m'\u001B[39m),\n\u001B[1;32m     51\u001B[0m                      \u001B[38;5;124m'\u001B[39m\u001B[38;5;124mMěna\u001B[39m\u001B[38;5;124m'\u001B[39m:np\u001B[38;5;241m.\u001B[39mrandom\u001B[38;5;241m.\u001B[39mchoice(currency_list, p\u001B[38;5;241m=\u001B[39m[\u001B[38;5;241m0.60\u001B[39m, \u001B[38;5;241m0.40\u001B[39m]),\n\u001B[0;32m   (...)\u001B[0m\n\u001B[1;32m     60\u001B[0m                      \u001B[38;5;124m'\u001B[39m\u001B[38;5;124mZaměstnanec\u001B[39m\u001B[38;5;124m'\u001B[39m:np\u001B[38;5;241m.\u001B[39mrandom\u001B[38;5;241m.\u001B[39mchoice(zam_list)}\n\u001B[1;32m     61\u001B[0m                       \u001B[38;5;28;01mfor\u001B[39;00m x \u001B[38;5;129;01min\u001B[39;00m \u001B[38;5;28mrange\u001B[39m(num)]\n\u001B[1;32m     62\u001B[0m     \u001B[38;5;28;01mreturn\u001B[39;00m fake_doprava\n\u001B[0;32m---> 64\u001B[0m df \u001B[38;5;241m=\u001B[39m pd\u001B[38;5;241m.\u001B[39mDataFrame(\u001B[43mmake_doprava\u001B[49m\u001B[43m(\u001B[49m\u001B[43mnum\u001B[49m\u001B[38;5;241;43m=\u001B[39;49m\u001B[38;5;241;43m500\u001B[39;49m\u001B[43m)\u001B[49m)\n\u001B[1;32m     65\u001B[0m df\u001B[38;5;241m.\u001B[39mhead(\u001B[38;5;241m20\u001B[39m)\n",
      "Input \u001B[0;32mIn [20]\u001B[0m, in \u001B[0;36mmake_doprava\u001B[0;34m(num)\u001B[0m\n\u001B[1;32m     41\u001B[0m warehouse_type_list \u001B[38;5;241m=\u001B[39m [\u001B[38;5;124m'\u001B[39m\u001B[38;5;124mtranzitní\u001B[39m\u001B[38;5;124m'\u001B[39m,\n\u001B[1;32m     42\u001B[0m                   \u001B[38;5;124m'\u001B[39m\u001B[38;5;124mcentrální\u001B[39m\u001B[38;5;124m'\u001B[39m,\n\u001B[1;32m     43\u001B[0m                   \u001B[38;5;124m'\u001B[39m\u001B[38;5;124mregionální\u001B[39m\u001B[38;5;124m'\u001B[39m]\n\u001B[1;32m     44\u001B[0m druhy_nakladu \u001B[38;5;241m=\u001B[39m [\u001B[38;5;124m'\u001B[39m\u001B[38;5;124mSpotřeba materiálu, energie a externích služeb\u001B[39m\u001B[38;5;124m'\u001B[39m,\n\u001B[1;32m     45\u001B[0m                  \u001B[38;5;124m'\u001B[39m\u001B[38;5;124mMzdové a ostatní osobní náklady\u001B[39m\u001B[38;5;124m'\u001B[39m,\n\u001B[1;32m     46\u001B[0m                  \u001B[38;5;124m'\u001B[39m\u001B[38;5;124mOdpisy hmotného i nehmotného dlouhodobého majetku\u001B[39m\u001B[38;5;124m'\u001B[39m,\n\u001B[1;32m     47\u001B[0m                  \u001B[38;5;124m'\u001B[39m\u001B[38;5;124mFinanční náklady\u001B[39m\u001B[38;5;124m'\u001B[39m]\n\u001B[0;32m---> 49\u001B[0m fake_doprava \u001B[38;5;241m=\u001B[39m [{\u001B[38;5;124m'\u001B[39m\u001B[38;5;124mTransit ID\u001B[39m\u001B[38;5;124m'\u001B[39m:x\u001B[38;5;241m+\u001B[39m\u001B[38;5;241m1000\u001B[39m,\n\u001B[1;32m     50\u001B[0m                  \u001B[38;5;124m'\u001B[39m\u001B[38;5;124mDatum\u001B[39m\u001B[38;5;124m'\u001B[39m:fake\u001B[38;5;241m.\u001B[39mdate_between(start_date\u001B[38;5;241m=\u001B[39m\u001B[38;5;124m'\u001B[39m\u001B[38;5;124m-1y\u001B[39m\u001B[38;5;124m'\u001B[39m, end_date\u001B[38;5;241m=\u001B[39m\u001B[38;5;124m'\u001B[39m\u001B[38;5;124mtoday\u001B[39m\u001B[38;5;124m'\u001B[39m),\n\u001B[1;32m     51\u001B[0m                  \u001B[38;5;124m'\u001B[39m\u001B[38;5;124mMěna\u001B[39m\u001B[38;5;124m'\u001B[39m:np\u001B[38;5;241m.\u001B[39mrandom\u001B[38;5;241m.\u001B[39mchoice(currency_list, p\u001B[38;5;241m=\u001B[39m[\u001B[38;5;241m0.60\u001B[39m, \u001B[38;5;241m0.40\u001B[39m]),\n\u001B[1;32m     52\u001B[0m                  \u001B[38;5;124m'\u001B[39m\u001B[38;5;124mRegion\u001B[39m\u001B[38;5;124m'\u001B[39m:np\u001B[38;5;241m.\u001B[39mrandom\u001B[38;5;241m.\u001B[39mchoice(region_list),\n\u001B[1;32m     53\u001B[0m                  \u001B[38;5;124m'\u001B[39m\u001B[38;5;124mRegion ID\u001B[39m\u001B[38;5;124m'\u001B[39m:np\u001B[38;5;241m.\u001B[39mrandom\u001B[38;5;241m.\u001B[39mchoice(regionid),\n\u001B[1;32m     54\u001B[0m                  \u001B[38;5;124m'\u001B[39m\u001B[38;5;124mPoslytovatel dopravy\u001B[39m\u001B[38;5;124m'\u001B[39m:np\u001B[38;5;241m.\u001B[39mrandom\u001B[38;5;241m.\u001B[39mchoice(company_list),\n\u001B[1;32m     55\u001B[0m                  \u001B[38;5;124m'\u001B[39m\u001B[38;5;124mPD ID\u001B[39m\u001B[38;5;124m'\u001B[39m: company_list\u001B[38;5;241m.\u001B[39mkeys,\n\u001B[1;32m     56\u001B[0m                  \u001B[38;5;124m'\u001B[39m\u001B[38;5;124mDoprava\u001B[39m\u001B[38;5;124m'\u001B[39m:np\u001B[38;5;241m.\u001B[39mrandom\u001B[38;5;241m.\u001B[39mchoice(transport_type_list, p\u001B[38;5;241m=\u001B[39m[\u001B[38;5;241m0.30\u001B[39m, \u001B[38;5;241m0.40\u001B[39m, \u001B[38;5;241m0.30\u001B[39m]),\n\u001B[1;32m     57\u001B[0m                  \u001B[38;5;124m'\u001B[39m\u001B[38;5;124mPohonné hmoty\u001B[39m\u001B[38;5;124m'\u001B[39m:np\u001B[38;5;241m.\u001B[39mrandom\u001B[38;5;241m.\u001B[39mchoice(phm_list),\n\u001B[1;32m     58\u001B[0m                  \u001B[38;5;124m'\u001B[39m\u001B[38;5;124mTyp skladu\u001B[39m\u001B[38;5;124m'\u001B[39m:np\u001B[38;5;241m.\u001B[39mrandom\u001B[38;5;241m.\u001B[39mchoice(warehouse_type_list),\n\u001B[1;32m     59\u001B[0m                  \u001B[38;5;124m'\u001B[39m\u001B[38;5;124mNákladové druhy\u001B[39m\u001B[38;5;124m'\u001B[39m:np\u001B[38;5;241m.\u001B[39mrandom\u001B[38;5;241m.\u001B[39mchoice(druhy_nakladu),\n\u001B[1;32m     60\u001B[0m                  \u001B[38;5;124m'\u001B[39m\u001B[38;5;124mZaměstnanec\u001B[39m\u001B[38;5;124m'\u001B[39m:np\u001B[38;5;241m.\u001B[39mrandom\u001B[38;5;241m.\u001B[39mchoice(zam_list)}\n\u001B[1;32m     61\u001B[0m                   \u001B[38;5;28;01mfor\u001B[39;00m x \u001B[38;5;129;01min\u001B[39;00m \u001B[38;5;28mrange\u001B[39m(num)]\n\u001B[1;32m     62\u001B[0m \u001B[38;5;28;01mreturn\u001B[39;00m fake_doprava\n",
      "Input \u001B[0;32mIn [20]\u001B[0m, in \u001B[0;36m<listcomp>\u001B[0;34m(.0)\u001B[0m\n\u001B[1;32m     41\u001B[0m warehouse_type_list \u001B[38;5;241m=\u001B[39m [\u001B[38;5;124m'\u001B[39m\u001B[38;5;124mtranzitní\u001B[39m\u001B[38;5;124m'\u001B[39m,\n\u001B[1;32m     42\u001B[0m                   \u001B[38;5;124m'\u001B[39m\u001B[38;5;124mcentrální\u001B[39m\u001B[38;5;124m'\u001B[39m,\n\u001B[1;32m     43\u001B[0m                   \u001B[38;5;124m'\u001B[39m\u001B[38;5;124mregionální\u001B[39m\u001B[38;5;124m'\u001B[39m]\n\u001B[1;32m     44\u001B[0m druhy_nakladu \u001B[38;5;241m=\u001B[39m [\u001B[38;5;124m'\u001B[39m\u001B[38;5;124mSpotřeba materiálu, energie a externích služeb\u001B[39m\u001B[38;5;124m'\u001B[39m,\n\u001B[1;32m     45\u001B[0m                  \u001B[38;5;124m'\u001B[39m\u001B[38;5;124mMzdové a ostatní osobní náklady\u001B[39m\u001B[38;5;124m'\u001B[39m,\n\u001B[1;32m     46\u001B[0m                  \u001B[38;5;124m'\u001B[39m\u001B[38;5;124mOdpisy hmotného i nehmotného dlouhodobého majetku\u001B[39m\u001B[38;5;124m'\u001B[39m,\n\u001B[1;32m     47\u001B[0m                  \u001B[38;5;124m'\u001B[39m\u001B[38;5;124mFinanční náklady\u001B[39m\u001B[38;5;124m'\u001B[39m]\n\u001B[1;32m     49\u001B[0m fake_doprava \u001B[38;5;241m=\u001B[39m [{\u001B[38;5;124m'\u001B[39m\u001B[38;5;124mTransit ID\u001B[39m\u001B[38;5;124m'\u001B[39m:x\u001B[38;5;241m+\u001B[39m\u001B[38;5;241m1000\u001B[39m,\n\u001B[1;32m     50\u001B[0m                  \u001B[38;5;124m'\u001B[39m\u001B[38;5;124mDatum\u001B[39m\u001B[38;5;124m'\u001B[39m:fake\u001B[38;5;241m.\u001B[39mdate_between(start_date\u001B[38;5;241m=\u001B[39m\u001B[38;5;124m'\u001B[39m\u001B[38;5;124m-1y\u001B[39m\u001B[38;5;124m'\u001B[39m, end_date\u001B[38;5;241m=\u001B[39m\u001B[38;5;124m'\u001B[39m\u001B[38;5;124mtoday\u001B[39m\u001B[38;5;124m'\u001B[39m),\n\u001B[1;32m     51\u001B[0m                  \u001B[38;5;124m'\u001B[39m\u001B[38;5;124mMěna\u001B[39m\u001B[38;5;124m'\u001B[39m:np\u001B[38;5;241m.\u001B[39mrandom\u001B[38;5;241m.\u001B[39mchoice(currency_list, p\u001B[38;5;241m=\u001B[39m[\u001B[38;5;241m0.60\u001B[39m, \u001B[38;5;241m0.40\u001B[39m]),\n\u001B[1;32m     52\u001B[0m                  \u001B[38;5;124m'\u001B[39m\u001B[38;5;124mRegion\u001B[39m\u001B[38;5;124m'\u001B[39m:np\u001B[38;5;241m.\u001B[39mrandom\u001B[38;5;241m.\u001B[39mchoice(region_list),\n\u001B[1;32m     53\u001B[0m                  \u001B[38;5;124m'\u001B[39m\u001B[38;5;124mRegion ID\u001B[39m\u001B[38;5;124m'\u001B[39m:np\u001B[38;5;241m.\u001B[39mrandom\u001B[38;5;241m.\u001B[39mchoice(regionid),\n\u001B[0;32m---> 54\u001B[0m                  \u001B[38;5;124m'\u001B[39m\u001B[38;5;124mPoslytovatel dopravy\u001B[39m\u001B[38;5;124m'\u001B[39m:\u001B[43mnp\u001B[49m\u001B[38;5;241;43m.\u001B[39;49m\u001B[43mrandom\u001B[49m\u001B[38;5;241;43m.\u001B[39;49m\u001B[43mchoice\u001B[49m\u001B[43m(\u001B[49m\u001B[43mcompany_list\u001B[49m\u001B[43m)\u001B[49m,\n\u001B[1;32m     55\u001B[0m                  \u001B[38;5;124m'\u001B[39m\u001B[38;5;124mPD ID\u001B[39m\u001B[38;5;124m'\u001B[39m: company_list\u001B[38;5;241m.\u001B[39mkeys,\n\u001B[1;32m     56\u001B[0m                  \u001B[38;5;124m'\u001B[39m\u001B[38;5;124mDoprava\u001B[39m\u001B[38;5;124m'\u001B[39m:np\u001B[38;5;241m.\u001B[39mrandom\u001B[38;5;241m.\u001B[39mchoice(transport_type_list, p\u001B[38;5;241m=\u001B[39m[\u001B[38;5;241m0.30\u001B[39m, \u001B[38;5;241m0.40\u001B[39m, \u001B[38;5;241m0.30\u001B[39m]),\n\u001B[1;32m     57\u001B[0m                  \u001B[38;5;124m'\u001B[39m\u001B[38;5;124mPohonné hmoty\u001B[39m\u001B[38;5;124m'\u001B[39m:np\u001B[38;5;241m.\u001B[39mrandom\u001B[38;5;241m.\u001B[39mchoice(phm_list),\n\u001B[1;32m     58\u001B[0m                  \u001B[38;5;124m'\u001B[39m\u001B[38;5;124mTyp skladu\u001B[39m\u001B[38;5;124m'\u001B[39m:np\u001B[38;5;241m.\u001B[39mrandom\u001B[38;5;241m.\u001B[39mchoice(warehouse_type_list),\n\u001B[1;32m     59\u001B[0m                  \u001B[38;5;124m'\u001B[39m\u001B[38;5;124mNákladové druhy\u001B[39m\u001B[38;5;124m'\u001B[39m:np\u001B[38;5;241m.\u001B[39mrandom\u001B[38;5;241m.\u001B[39mchoice(druhy_nakladu),\n\u001B[1;32m     60\u001B[0m                  \u001B[38;5;124m'\u001B[39m\u001B[38;5;124mZaměstnanec\u001B[39m\u001B[38;5;124m'\u001B[39m:np\u001B[38;5;241m.\u001B[39mrandom\u001B[38;5;241m.\u001B[39mchoice(zam_list)}\n\u001B[1;32m     61\u001B[0m                   \u001B[38;5;28;01mfor\u001B[39;00m x \u001B[38;5;129;01min\u001B[39;00m \u001B[38;5;28mrange\u001B[39m(num)]\n\u001B[1;32m     62\u001B[0m \u001B[38;5;28;01mreturn\u001B[39;00m fake_doprava\n",
      "File \u001B[0;32mmtrand.pyx:907\u001B[0m, in \u001B[0;36mnumpy.random.mtrand.RandomState.choice\u001B[0;34m()\u001B[0m\n",
      "\u001B[0;31mValueError\u001B[0m: a must be 1-dimensional or an integer"
     ]
    }
   ],
   "source": [
    "# create some fake data\n",
    "fake = Faker()\n",
    "\n",
    "# function to create a dataframe with fake values for our transport business\n",
    "def make_doprava(num):\n",
    "    # lists to randomly assign to doprava\n",
    "    region_list = ['Hlavní město Praha',\n",
    "                   'Jihočeský kraj',\n",
    "                   'Jihomoravský kraj',\n",
    "                   'Karlovarský kraj',\n",
    "                   'Královehradecký kraj',\n",
    "                   'Liberecký kraj',\n",
    "                   'Moravskoslezský kraj',\n",
    "                   'Olomoucký kraj',\n",
    "                   'Pardubický kraj',\n",
    "                   'Plzeňský kraj',\n",
    "                   'Středočeský kraj',\n",
    "                   'Ústecký kraj,'\n",
    "                   'Vysočina',\n",
    "                   'Zlínský kraj']\n",
    "    regionid = pd.Series(region_list).astype('category').cat.codes.values\n",
    "    company_list = {'C1': 'Toptrans',\n",
    "                    'C2': 'GLS',\n",
    "                    'C3': 'Spedquick Třebíč',\n",
    "                    'C4': 'Geis',\n",
    "                    'C5': 'Pap Trutnov'}\n",
    "\n",
    "    #companyid = map(lambda x: company_keys, company_list)\n",
    "    transport_type_list = ['vlak',\n",
    "                           'kamion',\n",
    "                           'nákladní vozidlo']\n",
    "    currency_list = ['CZK',\n",
    "                     'EUR']\n",
    "    phm_list = ['natural95',\n",
    "                'diesel']\n",
    "    zam_list = ['Jan Novák',\n",
    "                'Daniel Podach',\n",
    "                'Jiří Zeman',\n",
    "                'Josef Vošouch',\n",
    "                'Karel Barel']\n",
    "    warehouse_type_list = ['tranzitní',\n",
    "                      'centrální',\n",
    "                      'regionální']\n",
    "    druhy_nakladu = ['Spotřeba materiálu, energie a externích služeb',\n",
    "                     'Mzdové a ostatní osobní náklady',\n",
    "                     'Odpisy hmotného i nehmotného dlouhodobého majetku',\n",
    "                     'Finanční náklady']\n",
    "\n",
    "    fake_doprava = [{'Transit ID':x+1000,\n",
    "                     'Datum':fake.date_between(start_date='-1y', end_date='today'),\n",
    "                     'Měna':np.random.choice(currency_list, p=[0.60, 0.40]),\n",
    "                     'Region':np.random.choice(region_list),\n",
    "                     'Region ID':np.random.choice(regionid),\n",
    "                     'Poslytovatel dopravy':np.random.choice(company_list),\n",
    "                     'PD ID': company_list.keys(),\n",
    "                     'Doprava':np.random.choice(transport_type_list, p=[0.30, 0.40, 0.30]),\n",
    "                     'Pohonné hmoty':np.random.choice(phm_list),\n",
    "                     'Typ skladu':np.random.choice(warehouse_type_list),\n",
    "                     'Nákladové druhy':np.random.choice(druhy_nakladu),\n",
    "                     'Zaměstnanec':np.random.choice(zam_list)}\n",
    "                      for x in range(num)]\n",
    "    return fake_doprava\n",
    "\n",
    "df = pd.DataFrame(make_doprava(num=500))\n",
    "df.head(20)"
   ],
   "metadata": {
    "collapsed": false,
    "pycharm": {
     "name": "#%%\n"
    }
   }
  },
  {
   "cell_type": "code",
   "execution_count": 10,
   "outputs": [],
   "source": [
    "#df.to_csv('bidata.cvs')"
   ],
   "metadata": {
    "collapsed": false,
    "pycharm": {
     "name": "#%%\n"
    }
   }
  },
  {
   "cell_type": "code",
   "execution_count": null,
   "outputs": [],
   "source": [],
   "metadata": {
    "collapsed": false,
    "pycharm": {
     "name": "#%%\n"
    }
   }
  }
 ],
 "metadata": {
  "kernelspec": {
   "display_name": "Python 3",
   "language": "python",
   "name": "python3"
  },
  "language_info": {
   "codemirror_mode": {
    "name": "ipython",
    "version": 2
   },
   "file_extension": ".py",
   "mimetype": "text/x-python",
   "name": "python",
   "nbconvert_exporter": "python",
   "pygments_lexer": "ipython2",
   "version": "2.7.6"
  }
 },
 "nbformat": 4,
 "nbformat_minor": 0
}