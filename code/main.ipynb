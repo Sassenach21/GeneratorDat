{
 "cells": [
  {
   "cell_type": "code",
   "execution_count": 1,
   "metadata": {
    "collapsed": true,
    "pycharm": {
     "name": "#%%\n"
    }
   },
   "outputs": [],
   "source": [
    "import pandas as pd\n",
    "import numpy as np\n",
    "from faker import Faker"
   ]
  },
  {
   "cell_type": "code",
   "execution_count": 7,
   "outputs": [
    {
     "data": {
      "text/plain": "    Transit ID       Datum Měna                 Region  Region ID  \\\n0         1000  2022-11-15  CZK       Středočeský kraj          6   \n1         1001  2022-01-27  EUR      Jihomoravský kraj          1   \n2         1002  2022-06-20  CZK   Královehradecký kraj          3   \n3         1003  2022-01-19  EUR     Hlavní město Praha          4   \n4         1004  2022-09-18  EUR           Zlínský kraj          1   \n5         1005  2022-03-19  CZK         Liberecký kraj         10   \n6         1006  2022-10-27  CZK   Královehradecký kraj          5   \n7         1007  2022-03-06  EUR   Moravskoslezský kraj          0   \n8         1008  2022-06-03  CZK   Královehradecký kraj          3   \n9         1009  2022-10-10  EUR       Karlovarský kraj          7   \n10        1010  2022-08-09  CZK         Liberecký kraj          6   \n11        1011  2022-10-02  CZK  Ústecký kraj,Vysočina          2   \n12        1012  2022-10-07  EUR  Ústecký kraj,Vysočina          3   \n13        1013  2022-05-08  EUR   Moravskoslezský kraj         11   \n14        1014  2022-04-27  CZK       Karlovarský kraj          0   \n15        1015  2022-11-27  CZK         Liberecký kraj         10   \n16        1016  2022-10-10  CZK       Středočeský kraj          6   \n17        1017  2022-04-01  CZK        Pardubický kraj          4   \n18        1018  2022-09-18  CZK         Olomoucký kraj          9   \n19        1019  2022-01-26  CZK       Středočeský kraj          3   \n\n   Poslytovatel dopravy           Doprava Pohonné hmoty  Typ skladu  \\\n0           Pap Trutnov              vlak     natural95   centrální   \n1              Toptrans              vlak     natural95  regionální   \n2           Pap Trutnov  nákladní vozidlo     natural95   tranzitní   \n3      Spedquick Třebíč            kamion     natural95   centrální   \n4              Toptrans            kamion        diesel   centrální   \n5           Pap Trutnov  nákladní vozidlo     natural95  regionální   \n6                   GLS              vlak     natural95   tranzitní   \n7              Toptrans            kamion        diesel  regionální   \n8           Pap Trutnov            kamion     natural95  regionální   \n9                  Geis  nákladní vozidlo        diesel   tranzitní   \n10             Toptrans            kamion        diesel  regionální   \n11             Toptrans            kamion     natural95   centrální   \n12             Toptrans  nákladní vozidlo     natural95   centrální   \n13                 Geis  nákladní vozidlo     natural95   centrální   \n14                  GLS            kamion     natural95   tranzitní   \n15                 Geis            kamion     natural95   tranzitní   \n16                 Geis  nákladní vozidlo        diesel   centrální   \n17                  GLS            kamion     natural95   centrální   \n18             Toptrans              vlak     natural95   centrální   \n19                  GLS              vlak     natural95  regionální   \n\n                                      Nákladové druhy    Zaměstnanec  \n0   Odpisy hmotného i nehmotného dlouhodobého majetku  Daniel Podach  \n1                                    Finanční náklady  Daniel Podach  \n2   Odpisy hmotného i nehmotného dlouhodobého majetku      Jan Novák  \n3      Spotřeba materiálu, energie a externích služeb     Jiří Zeman  \n4   Odpisy hmotného i nehmotného dlouhodobého majetku  Josef Vošouch  \n5                                    Finanční náklady    Karel Barel  \n6      Spotřeba materiálu, energie a externích služeb  Daniel Podach  \n7      Spotřeba materiálu, energie a externích služeb    Karel Barel  \n8                     Mzdové a ostatní osobní náklady    Karel Barel  \n9                     Mzdové a ostatní osobní náklady    Karel Barel  \n10     Spotřeba materiálu, energie a externích služeb    Karel Barel  \n11                                   Finanční náklady      Jan Novák  \n12     Spotřeba materiálu, energie a externích služeb  Josef Vošouch  \n13                    Mzdové a ostatní osobní náklady    Karel Barel  \n14  Odpisy hmotného i nehmotného dlouhodobého majetku      Jan Novák  \n15     Spotřeba materiálu, energie a externích služeb     Jiří Zeman  \n16  Odpisy hmotného i nehmotného dlouhodobého majetku     Jiří Zeman  \n17     Spotřeba materiálu, energie a externích služeb     Jiří Zeman  \n18     Spotřeba materiálu, energie a externích služeb     Jiří Zeman  \n19  Odpisy hmotného i nehmotného dlouhodobého majetku     Jiří Zeman  ",
      "text/html": "<div>\n<style scoped>\n    .dataframe tbody tr th:only-of-type {\n        vertical-align: middle;\n    }\n\n    .dataframe tbody tr th {\n        vertical-align: top;\n    }\n\n    .dataframe thead th {\n        text-align: right;\n    }\n</style>\n<table border=\"1\" class=\"dataframe\">\n  <thead>\n    <tr style=\"text-align: right;\">\n      <th></th>\n      <th>Transit ID</th>\n      <th>Datum</th>\n      <th>Měna</th>\n      <th>Region</th>\n      <th>Region ID</th>\n      <th>Poslytovatel dopravy</th>\n      <th>Doprava</th>\n      <th>Pohonné hmoty</th>\n      <th>Typ skladu</th>\n      <th>Nákladové druhy</th>\n      <th>Zaměstnanec</th>\n    </tr>\n  </thead>\n  <tbody>\n    <tr>\n      <th>0</th>\n      <td>1000</td>\n      <td>2022-11-15</td>\n      <td>CZK</td>\n      <td>Středočeský kraj</td>\n      <td>6</td>\n      <td>Pap Trutnov</td>\n      <td>vlak</td>\n      <td>natural95</td>\n      <td>centrální</td>\n      <td>Odpisy hmotného i nehmotného dlouhodobého majetku</td>\n      <td>Daniel Podach</td>\n    </tr>\n    <tr>\n      <th>1</th>\n      <td>1001</td>\n      <td>2022-01-27</td>\n      <td>EUR</td>\n      <td>Jihomoravský kraj</td>\n      <td>1</td>\n      <td>Toptrans</td>\n      <td>vlak</td>\n      <td>natural95</td>\n      <td>regionální</td>\n      <td>Finanční náklady</td>\n      <td>Daniel Podach</td>\n    </tr>\n    <tr>\n      <th>2</th>\n      <td>1002</td>\n      <td>2022-06-20</td>\n      <td>CZK</td>\n      <td>Královehradecký kraj</td>\n      <td>3</td>\n      <td>Pap Trutnov</td>\n      <td>nákladní vozidlo</td>\n      <td>natural95</td>\n      <td>tranzitní</td>\n      <td>Odpisy hmotného i nehmotného dlouhodobého majetku</td>\n      <td>Jan Novák</td>\n    </tr>\n    <tr>\n      <th>3</th>\n      <td>1003</td>\n      <td>2022-01-19</td>\n      <td>EUR</td>\n      <td>Hlavní město Praha</td>\n      <td>4</td>\n      <td>Spedquick Třebíč</td>\n      <td>kamion</td>\n      <td>natural95</td>\n      <td>centrální</td>\n      <td>Spotřeba materiálu, energie a externích služeb</td>\n      <td>Jiří Zeman</td>\n    </tr>\n    <tr>\n      <th>4</th>\n      <td>1004</td>\n      <td>2022-09-18</td>\n      <td>EUR</td>\n      <td>Zlínský kraj</td>\n      <td>1</td>\n      <td>Toptrans</td>\n      <td>kamion</td>\n      <td>diesel</td>\n      <td>centrální</td>\n      <td>Odpisy hmotného i nehmotného dlouhodobého majetku</td>\n      <td>Josef Vošouch</td>\n    </tr>\n    <tr>\n      <th>5</th>\n      <td>1005</td>\n      <td>2022-03-19</td>\n      <td>CZK</td>\n      <td>Liberecký kraj</td>\n      <td>10</td>\n      <td>Pap Trutnov</td>\n      <td>nákladní vozidlo</td>\n      <td>natural95</td>\n      <td>regionální</td>\n      <td>Finanční náklady</td>\n      <td>Karel Barel</td>\n    </tr>\n    <tr>\n      <th>6</th>\n      <td>1006</td>\n      <td>2022-10-27</td>\n      <td>CZK</td>\n      <td>Královehradecký kraj</td>\n      <td>5</td>\n      <td>GLS</td>\n      <td>vlak</td>\n      <td>natural95</td>\n      <td>tranzitní</td>\n      <td>Spotřeba materiálu, energie a externích služeb</td>\n      <td>Daniel Podach</td>\n    </tr>\n    <tr>\n      <th>7</th>\n      <td>1007</td>\n      <td>2022-03-06</td>\n      <td>EUR</td>\n      <td>Moravskoslezský kraj</td>\n      <td>0</td>\n      <td>Toptrans</td>\n      <td>kamion</td>\n      <td>diesel</td>\n      <td>regionální</td>\n      <td>Spotřeba materiálu, energie a externích služeb</td>\n      <td>Karel Barel</td>\n    </tr>\n    <tr>\n      <th>8</th>\n      <td>1008</td>\n      <td>2022-06-03</td>\n      <td>CZK</td>\n      <td>Královehradecký kraj</td>\n      <td>3</td>\n      <td>Pap Trutnov</td>\n      <td>kamion</td>\n      <td>natural95</td>\n      <td>regionální</td>\n      <td>Mzdové a ostatní osobní náklady</td>\n      <td>Karel Barel</td>\n    </tr>\n    <tr>\n      <th>9</th>\n      <td>1009</td>\n      <td>2022-10-10</td>\n      <td>EUR</td>\n      <td>Karlovarský kraj</td>\n      <td>7</td>\n      <td>Geis</td>\n      <td>nákladní vozidlo</td>\n      <td>diesel</td>\n      <td>tranzitní</td>\n      <td>Mzdové a ostatní osobní náklady</td>\n      <td>Karel Barel</td>\n    </tr>\n    <tr>\n      <th>10</th>\n      <td>1010</td>\n      <td>2022-08-09</td>\n      <td>CZK</td>\n      <td>Liberecký kraj</td>\n      <td>6</td>\n      <td>Toptrans</td>\n      <td>kamion</td>\n      <td>diesel</td>\n      <td>regionální</td>\n      <td>Spotřeba materiálu, energie a externích služeb</td>\n      <td>Karel Barel</td>\n    </tr>\n    <tr>\n      <th>11</th>\n      <td>1011</td>\n      <td>2022-10-02</td>\n      <td>CZK</td>\n      <td>Ústecký kraj,Vysočina</td>\n      <td>2</td>\n      <td>Toptrans</td>\n      <td>kamion</td>\n      <td>natural95</td>\n      <td>centrální</td>\n      <td>Finanční náklady</td>\n      <td>Jan Novák</td>\n    </tr>\n    <tr>\n      <th>12</th>\n      <td>1012</td>\n      <td>2022-10-07</td>\n      <td>EUR</td>\n      <td>Ústecký kraj,Vysočina</td>\n      <td>3</td>\n      <td>Toptrans</td>\n      <td>nákladní vozidlo</td>\n      <td>natural95</td>\n      <td>centrální</td>\n      <td>Spotřeba materiálu, energie a externích služeb</td>\n      <td>Josef Vošouch</td>\n    </tr>\n    <tr>\n      <th>13</th>\n      <td>1013</td>\n      <td>2022-05-08</td>\n      <td>EUR</td>\n      <td>Moravskoslezský kraj</td>\n      <td>11</td>\n      <td>Geis</td>\n      <td>nákladní vozidlo</td>\n      <td>natural95</td>\n      <td>centrální</td>\n      <td>Mzdové a ostatní osobní náklady</td>\n      <td>Karel Barel</td>\n    </tr>\n    <tr>\n      <th>14</th>\n      <td>1014</td>\n      <td>2022-04-27</td>\n      <td>CZK</td>\n      <td>Karlovarský kraj</td>\n      <td>0</td>\n      <td>GLS</td>\n      <td>kamion</td>\n      <td>natural95</td>\n      <td>tranzitní</td>\n      <td>Odpisy hmotného i nehmotného dlouhodobého majetku</td>\n      <td>Jan Novák</td>\n    </tr>\n    <tr>\n      <th>15</th>\n      <td>1015</td>\n      <td>2022-11-27</td>\n      <td>CZK</td>\n      <td>Liberecký kraj</td>\n      <td>10</td>\n      <td>Geis</td>\n      <td>kamion</td>\n      <td>natural95</td>\n      <td>tranzitní</td>\n      <td>Spotřeba materiálu, energie a externích služeb</td>\n      <td>Jiří Zeman</td>\n    </tr>\n    <tr>\n      <th>16</th>\n      <td>1016</td>\n      <td>2022-10-10</td>\n      <td>CZK</td>\n      <td>Středočeský kraj</td>\n      <td>6</td>\n      <td>Geis</td>\n      <td>nákladní vozidlo</td>\n      <td>diesel</td>\n      <td>centrální</td>\n      <td>Odpisy hmotného i nehmotného dlouhodobého majetku</td>\n      <td>Jiří Zeman</td>\n    </tr>\n    <tr>\n      <th>17</th>\n      <td>1017</td>\n      <td>2022-04-01</td>\n      <td>CZK</td>\n      <td>Pardubický kraj</td>\n      <td>4</td>\n      <td>GLS</td>\n      <td>kamion</td>\n      <td>natural95</td>\n      <td>centrální</td>\n      <td>Spotřeba materiálu, energie a externích služeb</td>\n      <td>Jiří Zeman</td>\n    </tr>\n    <tr>\n      <th>18</th>\n      <td>1018</td>\n      <td>2022-09-18</td>\n      <td>CZK</td>\n      <td>Olomoucký kraj</td>\n      <td>9</td>\n      <td>Toptrans</td>\n      <td>vlak</td>\n      <td>natural95</td>\n      <td>centrální</td>\n      <td>Spotřeba materiálu, energie a externích služeb</td>\n      <td>Jiří Zeman</td>\n    </tr>\n    <tr>\n      <th>19</th>\n      <td>1019</td>\n      <td>2022-01-26</td>\n      <td>CZK</td>\n      <td>Středočeský kraj</td>\n      <td>3</td>\n      <td>GLS</td>\n      <td>vlak</td>\n      <td>natural95</td>\n      <td>regionální</td>\n      <td>Odpisy hmotného i nehmotného dlouhodobého majetku</td>\n      <td>Jiří Zeman</td>\n    </tr>\n  </tbody>\n</table>\n</div>"
     },
     "execution_count": 7,
     "metadata": {},
     "output_type": "execute_result"
    }
   ],
   "source": [
    "# create some fake data\n",
    "fake = Faker()\n",
    "\n",
    "# function to create a dataframe with fake values for our transport business\n",
    "def make_doprava(num):\n",
    "    # lists to randomly assign to doprava\n",
    "    region_list = ['Hlavní město Praha',\n",
    "                   'Jihočeský kraj',\n",
    "                   'Jihomoravský kraj',\n",
    "                   'Karlovarský kraj',\n",
    "                   'Královehradecký kraj',\n",
    "                   'Liberecký kraj',\n",
    "                   'Moravskoslezský kraj',\n",
    "                   'Olomoucký kraj',\n",
    "                   'Pardubický kraj',\n",
    "                   'Plzeňský kraj',\n",
    "                   'Středočeský kraj',\n",
    "                   'Ústecký kraj,'\n",
    "                   'Vysočina',\n",
    "                   'Zlínský kraj']\n",
    "    regionid = pd.Series(region_list).astype('category').cat.codes.values\n",
    "    company_list = ['Toptrans',\n",
    "                    'GLS',\n",
    "                    'Spedquick Třebíč',\n",
    "                    'Geis',\n",
    "                    'Pap Trutnov']\n",
    "    transport_type_list = ['vlak',\n",
    "                           'kamion',\n",
    "                           'nákladní vozidlo']\n",
    "    currency_list = ['CZK',\n",
    "                     'EUR']\n",
    "    phm_list = ['natural95',\n",
    "                'diesel']\n",
    "    zam_list = ['Jan Novák',\n",
    "                'Daniel Podach',\n",
    "                'Jiří Zeman',\n",
    "                'Josef Vošouch',\n",
    "                'Karel Barel']\n",
    "    warehouse_type_list = ['tranzitní',\n",
    "                      'centrální',\n",
    "                      'regionální']\n",
    "    druhy_nakladu = ['Spotřeba materiálu, energie a externích služeb',\n",
    "                     'Mzdové a ostatní osobní náklady',\n",
    "                     'Odpisy hmotného i nehmotného dlouhodobého majetku',\n",
    "                     'Finanční náklady']\n",
    "\n",
    "    fake_doprava = [{'Transit ID':x+1000,\n",
    "                     'Datum':fake.date_between(start_date='-1y', end_date='today'),\n",
    "                     'Měna':np.random.choice(currency_list, p=[0.60, 0.40]),\n",
    "                     'Region':np.random.choice(region_list),\n",
    "                     'Region ID':np.random.choice(regionid),\n",
    "                     'Poslytovatel dopravy':np.random.choice(company_list),\n",
    "                     'Doprava':np.random.choice(transport_type_list, p=[0.30, 0.40, 0.30]),\n",
    "                     'Pohonné hmoty':np.random.choice(phm_list),\n",
    "                     'Typ skladu':np.random.choice(warehouse_type_list),\n",
    "                     'Nákladové druhy':np.random.choice(druhy_nakladu),\n",
    "                     'Zaměstnanec':np.random.choice(zam_list)}\n",
    "                      for x in range(num)]\n",
    "    return fake_doprava\n",
    "\n",
    "df = pd.DataFrame(make_doprava(num=500))\n",
    "df.head(20)"
   ],
   "metadata": {
    "collapsed": false,
    "pycharm": {
     "name": "#%%\n"
    }
   }
  },
  {
   "cell_type": "code",
   "execution_count": 10,
   "outputs": [],
   "source": [
    "#df.to_csv('bidata.cvs')"
   ],
   "metadata": {
    "collapsed": false,
    "pycharm": {
     "name": "#%%\n"
    }
   }
  },
  {
   "cell_type": "code",
   "execution_count": null,
   "outputs": [],
   "source": [],
   "metadata": {
    "collapsed": false,
    "pycharm": {
     "name": "#%%\n"
    }
   }
  }
 ],
 "metadata": {
  "kernelspec": {
   "display_name": "Python 3",
   "language": "python",
   "name": "python3"
  },
  "language_info": {
   "codemirror_mode": {
    "name": "ipython",
    "version": 2
   },
   "file_extension": ".py",
   "mimetype": "text/x-python",
   "name": "python",
   "nbconvert_exporter": "python",
   "pygments_lexer": "ipython2",
   "version": "2.7.6"
  }
 },
 "nbformat": 4,
 "nbformat_minor": 0
}