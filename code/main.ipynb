{
 "cells": [
  {
   "cell_type": "code",
   "execution_count": 1,
   "metadata": {
    "collapsed": true,
    "pycharm": {
     "name": "#%%\n"
    }
   },
   "outputs": [],
   "source": [
    "import pandas as pd\n",
    "import numpy as np\n",
    "from faker import Faker"
   ]
  },
  {
   "cell_type": "code",
   "execution_count": 3,
   "outputs": [
    {
     "data": {
      "text/plain": "    Transit ID       Datum Měna                 Region Poslytovatel dopravy  \\\n0         1000  2022-03-03  EUR        Pardubický kraj          Pap Trutnov   \n1         1001  2022-08-15  CZK  Ústecký kraj,Vysočina             Toptrans   \n2         1002  2022-05-11  EUR           Zlínský kraj     Spedquick Třebíč   \n3         1003  2022-03-06  EUR   Královehradecký kraj          Pap Trutnov   \n4         1004  2022-01-14  EUR         Olomoucký kraj     Spedquick Třebíč   \n5         1005  2022-07-11  CZK  Ústecký kraj,Vysočina             Toptrans   \n6         1006  2022-03-22  CZK   Moravskoslezský kraj                 Geis   \n7         1007  2021-12-09  CZK         Olomoucký kraj                  GLS   \n8         1008  2022-10-22  EUR          Plzeňský kraj     Spedquick Třebíč   \n9         1009  2022-01-25  EUR   Královehradecký kraj          Pap Trutnov   \n10        1010  2022-06-15  EUR         Jihočeský kraj                 Geis   \n11        1011  2021-11-25  EUR       Karlovarský kraj             Toptrans   \n12        1012  2022-08-15  EUR   Moravskoslezský kraj                  GLS   \n13        1013  2022-09-26  CZK     Hlavní město Praha             Toptrans   \n14        1014  2022-04-28  CZK          Plzeňský kraj             Toptrans   \n15        1015  2022-04-23  EUR   Královehradecký kraj          Pap Trutnov   \n16        1016  2021-12-05  CZK     Hlavní město Praha          Pap Trutnov   \n17        1017  2022-07-26  EUR       Středočeský kraj     Spedquick Třebíč   \n18        1018  2022-01-05  CZK           Zlínský kraj                  GLS   \n19        1019  2021-12-19  CZK         Olomoucký kraj          Pap Trutnov   \n\n             Doprava  \n0               vlak  \n1             kamion  \n2               vlak  \n3             kamion  \n4   nákladní vozidlo  \n5               vlak  \n6               vlak  \n7             kamion  \n8               vlak  \n9               vlak  \n10  nákladní vozidlo  \n11              vlak  \n12  nákladní vozidlo  \n13  nákladní vozidlo  \n14              vlak  \n15            kamion  \n16              vlak  \n17              vlak  \n18            kamion  \n19              vlak  ",
      "text/html": "<div>\n<style scoped>\n    .dataframe tbody tr th:only-of-type {\n        vertical-align: middle;\n    }\n\n    .dataframe tbody tr th {\n        vertical-align: top;\n    }\n\n    .dataframe thead th {\n        text-align: right;\n    }\n</style>\n<table border=\"1\" class=\"dataframe\">\n  <thead>\n    <tr style=\"text-align: right;\">\n      <th></th>\n      <th>Transit ID</th>\n      <th>Datum</th>\n      <th>Měna</th>\n      <th>Region</th>\n      <th>Poslytovatel dopravy</th>\n      <th>Doprava</th>\n    </tr>\n  </thead>\n  <tbody>\n    <tr>\n      <th>0</th>\n      <td>1000</td>\n      <td>2022-03-03</td>\n      <td>EUR</td>\n      <td>Pardubický kraj</td>\n      <td>Pap Trutnov</td>\n      <td>vlak</td>\n    </tr>\n    <tr>\n      <th>1</th>\n      <td>1001</td>\n      <td>2022-08-15</td>\n      <td>CZK</td>\n      <td>Ústecký kraj,Vysočina</td>\n      <td>Toptrans</td>\n      <td>kamion</td>\n    </tr>\n    <tr>\n      <th>2</th>\n      <td>1002</td>\n      <td>2022-05-11</td>\n      <td>EUR</td>\n      <td>Zlínský kraj</td>\n      <td>Spedquick Třebíč</td>\n      <td>vlak</td>\n    </tr>\n    <tr>\n      <th>3</th>\n      <td>1003</td>\n      <td>2022-03-06</td>\n      <td>EUR</td>\n      <td>Královehradecký kraj</td>\n      <td>Pap Trutnov</td>\n      <td>kamion</td>\n    </tr>\n    <tr>\n      <th>4</th>\n      <td>1004</td>\n      <td>2022-01-14</td>\n      <td>EUR</td>\n      <td>Olomoucký kraj</td>\n      <td>Spedquick Třebíč</td>\n      <td>nákladní vozidlo</td>\n    </tr>\n    <tr>\n      <th>5</th>\n      <td>1005</td>\n      <td>2022-07-11</td>\n      <td>CZK</td>\n      <td>Ústecký kraj,Vysočina</td>\n      <td>Toptrans</td>\n      <td>vlak</td>\n    </tr>\n    <tr>\n      <th>6</th>\n      <td>1006</td>\n      <td>2022-03-22</td>\n      <td>CZK</td>\n      <td>Moravskoslezský kraj</td>\n      <td>Geis</td>\n      <td>vlak</td>\n    </tr>\n    <tr>\n      <th>7</th>\n      <td>1007</td>\n      <td>2021-12-09</td>\n      <td>CZK</td>\n      <td>Olomoucký kraj</td>\n      <td>GLS</td>\n      <td>kamion</td>\n    </tr>\n    <tr>\n      <th>8</th>\n      <td>1008</td>\n      <td>2022-10-22</td>\n      <td>EUR</td>\n      <td>Plzeňský kraj</td>\n      <td>Spedquick Třebíč</td>\n      <td>vlak</td>\n    </tr>\n    <tr>\n      <th>9</th>\n      <td>1009</td>\n      <td>2022-01-25</td>\n      <td>EUR</td>\n      <td>Královehradecký kraj</td>\n      <td>Pap Trutnov</td>\n      <td>vlak</td>\n    </tr>\n    <tr>\n      <th>10</th>\n      <td>1010</td>\n      <td>2022-06-15</td>\n      <td>EUR</td>\n      <td>Jihočeský kraj</td>\n      <td>Geis</td>\n      <td>nákladní vozidlo</td>\n    </tr>\n    <tr>\n      <th>11</th>\n      <td>1011</td>\n      <td>2021-11-25</td>\n      <td>EUR</td>\n      <td>Karlovarský kraj</td>\n      <td>Toptrans</td>\n      <td>vlak</td>\n    </tr>\n    <tr>\n      <th>12</th>\n      <td>1012</td>\n      <td>2022-08-15</td>\n      <td>EUR</td>\n      <td>Moravskoslezský kraj</td>\n      <td>GLS</td>\n      <td>nákladní vozidlo</td>\n    </tr>\n    <tr>\n      <th>13</th>\n      <td>1013</td>\n      <td>2022-09-26</td>\n      <td>CZK</td>\n      <td>Hlavní město Praha</td>\n      <td>Toptrans</td>\n      <td>nákladní vozidlo</td>\n    </tr>\n    <tr>\n      <th>14</th>\n      <td>1014</td>\n      <td>2022-04-28</td>\n      <td>CZK</td>\n      <td>Plzeňský kraj</td>\n      <td>Toptrans</td>\n      <td>vlak</td>\n    </tr>\n    <tr>\n      <th>15</th>\n      <td>1015</td>\n      <td>2022-04-23</td>\n      <td>EUR</td>\n      <td>Královehradecký kraj</td>\n      <td>Pap Trutnov</td>\n      <td>kamion</td>\n    </tr>\n    <tr>\n      <th>16</th>\n      <td>1016</td>\n      <td>2021-12-05</td>\n      <td>CZK</td>\n      <td>Hlavní město Praha</td>\n      <td>Pap Trutnov</td>\n      <td>vlak</td>\n    </tr>\n    <tr>\n      <th>17</th>\n      <td>1017</td>\n      <td>2022-07-26</td>\n      <td>EUR</td>\n      <td>Středočeský kraj</td>\n      <td>Spedquick Třebíč</td>\n      <td>vlak</td>\n    </tr>\n    <tr>\n      <th>18</th>\n      <td>1018</td>\n      <td>2022-01-05</td>\n      <td>CZK</td>\n      <td>Zlínský kraj</td>\n      <td>GLS</td>\n      <td>kamion</td>\n    </tr>\n    <tr>\n      <th>19</th>\n      <td>1019</td>\n      <td>2021-12-19</td>\n      <td>CZK</td>\n      <td>Olomoucký kraj</td>\n      <td>Pap Trutnov</td>\n      <td>vlak</td>\n    </tr>\n  </tbody>\n</table>\n</div>"
     },
     "execution_count": 3,
     "metadata": {},
     "output_type": "execute_result"
    }
   ],
   "source": [
    "# create some fake data\n",
    "fake = Faker()\n",
    "\n",
    "# function to create a dataframe with fake values for our transport business\n",
    "def make_doprava(num):\n",
    "    # lists to randomly assign to doprava\n",
    "    region_list = ['Hlavní město Praha',\n",
    "                   'Jihočeský kraj',\n",
    "                   'Jihomoravský kraj',\n",
    "                   'Karlovarský kraj',\n",
    "                   'Královehradecký kraj',\n",
    "                   'Liberecký kraj',\n",
    "                   'Moravskoslezský kraj',\n",
    "                   'Olomoucký kraj',\n",
    "                   'Pardubický kraj',\n",
    "                   'Plzeňský kraj',\n",
    "                   'Středočeský kraj',\n",
    "                   'Ústecký kraj,'\n",
    "                   'Vysočina',\n",
    "                   'Zlínský kraj']\n",
    "    company_list = ['Toptrans',\n",
    "                    'GLS',\n",
    "                    'Spedquick Třebíč',\n",
    "                    'Geis',\n",
    "                    'Pap Trutnov']\n",
    "    transport_type_list = ['vlak',\n",
    "                           'kamion',\n",
    "                           'nákladní vozidlo']\n",
    "    currency_list = ['CZK',\n",
    "                     'EUR']\n",
    "\n",
    "    fake_doprava = [{'Transit ID':x+1000,\n",
    "                     'Datum':fake.date_between(start_date='-1y', end_date='today'),\n",
    "                     'Měna':np.random.choice(currency_list, p=[0.60, 0.40]),\n",
    "                     'Region':np.random.choice(region_list),\n",
    "                     'Poslytovatel dopravy':np.random.choice(company_list),\n",
    "                     'Doprava':np.random.choice(transport_type_list, p=[0.30, 0.40, 0.30])} for x in range(num)]\n",
    "    return fake_doprava\n",
    "\n",
    "df = pd.DataFrame(make_doprava(num=500))\n",
    "df.head(20)"
   ],
   "metadata": {
    "collapsed": false,
    "pycharm": {
     "name": "#%%\n"
    }
   }
  },
  {
   "cell_type": "code",
   "execution_count": 4,
   "outputs": [],
   "source": [
    "#df.to_csv('bidata.cvs')"
   ],
   "metadata": {
    "collapsed": false,
    "pycharm": {
     "name": "#%%\n"
    }
   }
  },
  {
   "cell_type": "code",
   "execution_count": null,
   "outputs": [],
   "source": [],
   "metadata": {
    "collapsed": false,
    "pycharm": {
     "name": "#%%\n"
    }
   }
  }
 ],
 "metadata": {
  "kernelspec": {
   "display_name": "Python 3",
   "language": "python",
   "name": "python3"
  },
  "language_info": {
   "codemirror_mode": {
    "name": "ipython",
    "version": 2
   },
   "file_extension": ".py",
   "mimetype": "text/x-python",
   "name": "python",
   "nbconvert_exporter": "python",
   "pygments_lexer": "ipython2",
   "version": "2.7.6"
  }
 },
 "nbformat": 4,
 "nbformat_minor": 0
}